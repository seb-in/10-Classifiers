{
 "cells": [
  {
   "cell_type": "markdown",
   "metadata": {},
   "source": [
    "<a id = \"top\"></a> [ML Models](#ml_models) \n",
    "# Applying ML Classification On Iris Dataset \n",
    "to predict the Species for any given value of SepalLengthCm, SepalWidthCm, PetalLengthCm and PetalWidthCm"
   ]
  },
  {
   "cell_type": "code",
   "execution_count": 2,
   "metadata": {},
   "outputs": [],
   "source": [
    "import pandas as pd\n",
    "import numpy as np\n",
    "import matplotlib.pyplot as plt\n",
    "import seaborn as sns"
   ]
  },
  {
   "cell_type": "markdown",
   "metadata": {},
   "source": [
    "## Reading 'iris' dataset at the same time excluding the column at '0' index"
   ]
  },
  {
   "cell_type": "code",
   "execution_count": 3,
   "metadata": {},
   "outputs": [
    {
     "name": "stdout",
     "output_type": "stream",
     "text": [
      "   SepalLengthCm  SepalWidthCm  PetalLengthCm  PetalWidthCm      Species\n",
      "0            5.1           3.5            1.4           0.2  Iris-setosa\n",
      "1            4.9           3.0            1.4           0.2  Iris-setosa\n",
      "2            4.7           3.2            1.3           0.2  Iris-setosa\n",
      "3            4.6           3.1            1.5           0.2  Iris-setosa\n",
      "4            5.0           3.6            1.4           0.2  Iris-setosa\n",
      "['Iris-setosa' 'Iris-versicolor' 'Iris-virginica']\n"
     ]
    }
   ],
   "source": [
    "iris_data = pd.read_csv(\"./csv/Iris.csv\", usecols=[1,2,3,4,5])\n",
    "print(iris_data.head())\n",
    "print(iris_data['Species'].unique())"
   ]
  },
  {
   "cell_type": "markdown",
   "metadata": {},
   "source": [
    "### Alternative way of loading 'iris' dataset using 'sklearn'"
   ]
  },
  {
   "cell_type": "code",
   "execution_count": 4,
   "metadata": {},
   "outputs": [
    {
     "data": {
      "text/html": [
       "<div>\n",
       "<style scoped>\n",
       "    .dataframe tbody tr th:only-of-type {\n",
       "        vertical-align: middle;\n",
       "    }\n",
       "\n",
       "    .dataframe tbody tr th {\n",
       "        vertical-align: top;\n",
       "    }\n",
       "\n",
       "    .dataframe thead th {\n",
       "        text-align: right;\n",
       "    }\n",
       "</style>\n",
       "<table border=\"1\" class=\"dataframe\">\n",
       "  <thead>\n",
       "    <tr style=\"text-align: right;\">\n",
       "      <th></th>\n",
       "      <th>sepal length (cm)</th>\n",
       "      <th>sepal width (cm)</th>\n",
       "      <th>petal length (cm)</th>\n",
       "      <th>petal width (cm)</th>\n",
       "      <th>target</th>\n",
       "    </tr>\n",
       "  </thead>\n",
       "  <tbody>\n",
       "    <tr>\n",
       "      <th>0</th>\n",
       "      <td>5.1</td>\n",
       "      <td>3.5</td>\n",
       "      <td>1.4</td>\n",
       "      <td>0.2</td>\n",
       "      <td>0.0</td>\n",
       "    </tr>\n",
       "    <tr>\n",
       "      <th>1</th>\n",
       "      <td>4.9</td>\n",
       "      <td>3.0</td>\n",
       "      <td>1.4</td>\n",
       "      <td>0.2</td>\n",
       "      <td>0.0</td>\n",
       "    </tr>\n",
       "    <tr>\n",
       "      <th>2</th>\n",
       "      <td>4.7</td>\n",
       "      <td>3.2</td>\n",
       "      <td>1.3</td>\n",
       "      <td>0.2</td>\n",
       "      <td>0.0</td>\n",
       "    </tr>\n",
       "    <tr>\n",
       "      <th>3</th>\n",
       "      <td>4.6</td>\n",
       "      <td>3.1</td>\n",
       "      <td>1.5</td>\n",
       "      <td>0.2</td>\n",
       "      <td>0.0</td>\n",
       "    </tr>\n",
       "    <tr>\n",
       "      <th>4</th>\n",
       "      <td>5.0</td>\n",
       "      <td>3.6</td>\n",
       "      <td>1.4</td>\n",
       "      <td>0.2</td>\n",
       "      <td>0.0</td>\n",
       "    </tr>\n",
       "  </tbody>\n",
       "</table>\n",
       "</div>"
      ],
      "text/plain": [
       "   sepal length (cm)  sepal width (cm)  petal length (cm)  petal width (cm)  \\\n",
       "0                5.1               3.5                1.4               0.2   \n",
       "1                4.9               3.0                1.4               0.2   \n",
       "2                4.7               3.2                1.3               0.2   \n",
       "3                4.6               3.1                1.5               0.2   \n",
       "4                5.0               3.6                1.4               0.2   \n",
       "\n",
       "   target  \n",
       "0     0.0  \n",
       "1     0.0  \n",
       "2     0.0  \n",
       "3     0.0  \n",
       "4     0.0  "
      ]
     },
     "execution_count": 4,
     "metadata": {},
     "output_type": "execute_result"
    }
   ],
   "source": [
    "from sklearn.datasets import load_iris\n",
    "\n",
    "iris = load_iris()\n",
    "\n",
    "# np.c_ is the numpy concatenate function which is used to concat iris['data'] and iris['target'] arrays \n",
    "\n",
    "data1 = pd.DataFrame(data= np.c_[iris['data'], iris['target']], columns= iris['feature_names'] + ['target'])\n",
    "data1.head()"
   ]
  },
  {
   "cell_type": "markdown",
   "metadata": {},
   "source": [
    "## Inspecting dataset for null values"
   ]
  },
  {
   "cell_type": "code",
   "execution_count": 5,
   "metadata": {},
   "outputs": [
    {
     "data": {
      "text/plain": [
       "SepalLengthCm    0\n",
       "SepalWidthCm     0\n",
       "PetalLengthCm    0\n",
       "PetalWidthCm     0\n",
       "Species          0\n",
       "dtype: int64"
      ]
     },
     "execution_count": 5,
     "metadata": {},
     "output_type": "execute_result"
    }
   ],
   "source": [
    "iris_data.isnull().sum()"
   ]
  },
  {
   "cell_type": "markdown",
   "metadata": {},
   "source": [
    "### Preprocessing - Changing Categorical values in 'Species' to numerical values"
   ]
  },
  {
   "cell_type": "code",
   "execution_count": 6,
   "metadata": {},
   "outputs": [],
   "source": [
    "from sklearn.preprocessing import LabelEncoder\n",
    "encoder = LabelEncoder()\n",
    "iris_data['Species'] = encoder.fit_transform(iris_data['Species'])"
   ]
  },
  {
   "cell_type": "markdown",
   "metadata": {},
   "source": [
    "### Inspecting the changed dataset"
   ]
  },
  {
   "cell_type": "code",
   "execution_count": 7,
   "metadata": {},
   "outputs": [
    {
     "name": "stdout",
     "output_type": "stream",
     "text": [
      "0 50\n",
      "1 50\n",
      "2 50\n"
     ]
    }
   ],
   "source": [
    "categories = iris_data['Species'].unique()\n",
    "for cat in categories:\n",
    "    temp = iris_data[iris_data['Species'] == cat]\n",
    "    print(cat,temp['Species'].count())"
   ]
  },
  {
   "cell_type": "markdown",
   "metadata": {},
   "source": [
    "## Feature and Target selection\n",
    "SepalLengthCm, SepalWidthCm, PetalLengthCm and PetalWidthCm are the features \n",
    "\n",
    "Species is the target"
   ]
  },
  {
   "cell_type": "code",
   "execution_count": 8,
   "metadata": {},
   "outputs": [],
   "source": [
    "features = iris_data.iloc[:,:-1]\n",
    "X = iris_data.iloc[:,:-1].values\n",
    "y = iris_data.iloc[:,-1].values"
   ]
  },
  {
   "cell_type": "markdown",
   "metadata": {},
   "source": [
    "## Plotting correlation"
   ]
  },
  {
   "cell_type": "code",
   "execution_count": 10,
   "metadata": {},
   "outputs": [
    {
     "data": {
      "text/plain": [
       "<matplotlib.axes._subplots.AxesSubplot at 0xb192f48>"
      ]
     },
     "execution_count": 10,
     "metadata": {},
     "output_type": "execute_result"
    },
    {
     "data": {
      "image/png": "[encoded data removed]",
      "text/plain": [
       "<Figure size 576x216 with 2 Axes>"
      ]
     },
     "metadata": {
      "needs_background": "light"
     },
     "output_type": "display_data"
    }
   ],
   "source": [
    "plt.figure(figsize = (8,3))\n",
    "sns.heatmap(features.corr(),cmap='Blues',annot=True,linewidths=3, linecolor='black')"
   ]
  },
  {
   "cell_type": "markdown",
   "metadata": {},
   "source": [
    "### Alternate display (select any one)"
   ]
  },
  {
   "cell_type": "code",
   "execution_count": 11,
   "metadata": {},
   "outputs": [
    {
     "data": {
      "text/plain": [
       "<matplotlib.axes._subplots.AxesSubplot at 0xb831ac8>"
      ]
     },
     "execution_count": 11,
     "metadata": {},
     "output_type": "execute_result"
    },
    {
     "data": {
      "image/png": "[encoded data removed]",
      "text/plain": [
       "<Figure size 576x216 with 2 Axes>"
      ]
     },
     "metadata": {
      "needs_background": "light"
     },
     "output_type": "display_data"
    }
   ],
   "source": [
    "plt.figure(figsize = (8,3))\n",
    "matrix = np.triu(features.corr())\n",
    "sns.heatmap(features.corr(),cmap = 'coolwarm', annot=True, mask = matrix)"
   ]
  },
  {
   "cell_type": "markdown",
   "metadata": {},
   "source": [
    "It can be inferred from the correlation matrix that 'PetalWidthCm' and 'PetalLengthCm' have a strong positive correlation of 0.96"
   ]
  },
  {
   "cell_type": "markdown",
   "metadata": {},
   "source": [
    "### PCA(Principal Component Analysis)\n",
    "used for feature reduction ie exctracting the the most relevant features from the given features"
   ]
  },
  {
   "cell_type": "code",
   "execution_count": 13,
   "metadata": {},
   "outputs": [],
   "source": [
    "from sklearn.decomposition import PCA\n",
    "pca = PCA(n_components=2)\n",
    "X_r = pca.fit_transform(X)\n",
    "# print(X_r)"
   ]
  },
  {
   "cell_type": "code",
   "execution_count": 14,
   "metadata": {},
   "outputs": [],
   "source": [
    "import numpy as np\n",
    "c1 = np.array([row for row,index in zip(X_r, y) if index==0])\n",
    "c2 = np.array([row for row,index in zip(X_r, y) if index==1])\n",
    "c3 = np.array([row for row,index in zip(X_r, y) if index==2])"
   ]
  },
  {
   "cell_type": "markdown",
   "metadata": {},
   "source": [
    "### Plotting the 3 target categories to see if there is a hyper plane that seperates the 3 from each other"
   ]
  },
  {
   "cell_type": "code",
   "execution_count": 15,
   "metadata": {},
   "outputs": [
    {
     "data": {
      "image/png": "[encoded data removed]",
      "text/plain": [
       "<Figure size 432x288 with 1 Axes>"
      ]
     },
     "metadata": {
      "needs_background": "light"
     },
     "output_type": "display_data"
    }
   ],
   "source": [
    "plt.scatter(c1[:,0],c1[:,1],color='red', label = \"Iris-setosa\")\n",
    "plt.scatter(c2[:,0],c2[:,1],color='green', label = \"Iris-versicolor\")\n",
    "plt.scatter(c3[:,0],c3[:,1],color='blue', label = \"Iris-virginica\")\n",
    "plt.legend(loc=\"upper center\")\n",
    "plt.title(\"PCA vs Species\")\n",
    "plt.show()"
   ]
  },
  {
   "cell_type": "markdown",
   "metadata": {},
   "source": [
    "### Splitting the dataset for training and testing"
   ]
  },
  {
   "cell_type": "code",
   "execution_count": 16,
   "metadata": {},
   "outputs": [],
   "source": [
    "from sklearn.model_selection import train_test_split\n",
    "x_train,x_test,y_train,y_test = train_test_split(X,y,test_size=0.3,random_state=4)"
   ]
  },
  {
   "cell_type": "markdown",
   "metadata": {},
   "source": [
    "<a id=\"ml_models\"></a>\n",
    "## Applying diffirent ML model to classify and predict the target"
   ]
  },
  {
   "cell_type": "markdown",
   "metadata": {},
   "source": [
    "#### 1. SVM\n",
    "#### 2. LogisticRegression\n",
    "#### 3. k-Nearest Neighbors Classifier\n",
    "#### 4. GaussianNB \n",
    "#### 5. Random Forest\n",
    "#### 6. XGBoost\n",
    "#### 7. DecisionTreeClassifier\n",
    "#### 8. Ensembled Classifier\n",
    "#### 9. ExtraTreesClassifier\n",
    "#### 10. VotingClassifier"
   ]
  },
  {
   "cell_type": "markdown",
   "metadata": {},
   "source": [
    "### "
   ]
  },
  {
   "cell_type": "markdown",
   "metadata": {},
   "source": [
    "### 1. SVM"
   ]
  },
  {
   "cell_type": "code",
   "execution_count": 17,
   "metadata": {},
   "outputs": [],
   "source": [
    "from sklearn import svm\n",
    "svm_model = svm.SVC(C=1.0,kernel='rbf')\n",
    "svm_model.fit(x_train, y_train)\n",
    "y_pred = svm_model.predict(x_test)"
   ]
  },
  {
   "cell_type": "markdown",
   "metadata": {},
   "source": [
    "### 2.  LogisticRegression"
   ]
  },
  {
   "cell_type": "code",
   "execution_count": 18,
   "metadata": {},
   "outputs": [],
   "source": [
    "from sklearn.linear_model import LogisticRegression\n",
    "lr_model = LogisticRegression()\n",
    "lr_model.fit(x_train, y_train)\n",
    "y_pred = lr_model.predict(x_test)"
   ]
  },
  {
   "cell_type": "markdown",
   "metadata": {},
   "source": [
    "### 3. k-Nearest Neighbors Classifier"
   ]
  },
  {
   "cell_type": "code",
   "execution_count": 19,
   "metadata": {},
   "outputs": [],
   "source": [
    "from sklearn.neighbors import KNeighborsClassifier\n",
    "knn_model = KNeighborsClassifier()\n",
    "knn_model.fit(x_train, y_train)\n",
    "y_pred = knn_model.predict(x_test)"
   ]
  },
  {
   "cell_type": "markdown",
   "metadata": {},
   "source": [
    "### 4. GaussianNB"
   ]
  },
  {
   "cell_type": "code",
   "execution_count": 20,
   "metadata": {},
   "outputs": [],
   "source": [
    "from sklearn.naive_bayes import GaussianNB\n",
    "gnb_model = GaussianNB()\n",
    "gnb_model.fit(x_train, y_train)\n",
    "y_pred = gnb_model.predict(x_test)"
   ]
  },
  {
   "cell_type": "markdown",
   "metadata": {},
   "source": [
    "### 5. Random Forest"
   ]
  },
  {
   "cell_type": "code",
   "execution_count": 21,
   "metadata": {},
   "outputs": [],
   "source": [
    "from sklearn.ensemble import RandomForestClassifier\n",
    "rnn_model = RandomForestClassifier(n_estimators=200)\n",
    "rnn_model.fit(x_train, y_train)\n",
    "y_pred = rnn_model.predict(x_test)"
   ]
  },
  {
   "cell_type": "markdown",
   "metadata": {},
   "source": [
    "### 6. XGBoost"
   ]
  },
  {
   "cell_type": "code",
   "execution_count": 22,
   "metadata": {},
   "outputs": [
    {
     "name": "stdout",
     "output_type": "stream",
     "text": [
      "Requirement already satisfied: xgboost in c:\\users\\hp\\anaconda3\\lib\\site-packages (1.2.0)\n",
      "Requirement already satisfied: numpy in c:\\users\\hp\\anaconda3\\lib\\site-packages (from xgboost) (1.18.1)\n",
      "Requirement already satisfied: scipy in c:\\users\\hp\\anaconda3\\lib\\site-packages (from xgboost) (1.4.1)\n"
     ]
    }
   ],
   "source": [
    "!pip install xgboost"
   ]
  },
  {
   "cell_type": "code",
   "execution_count": 23,
   "metadata": {},
   "outputs": [],
   "source": [
    "import xgboost as xgb\n",
    "xgb_model = xgb.XGBClassifier(max_depth=3, n_estimators=300, learning_rate=0.05).fit(x_train, y_train)\n",
    "y_pred = xgb_model.predict(x_test)"
   ]
  },
  {
   "cell_type": "markdown",
   "metadata": {},
   "source": [
    "### 7. DecisionTreeClassifier"
   ]
  },
  {
   "cell_type": "code",
   "execution_count": 24,
   "metadata": {},
   "outputs": [],
   "source": [
    "from sklearn.tree import DecisionTreeClassifier\n",
    "dt_model = DecisionTreeClassifier(random_state=0).fit(x_train, y_train)\n",
    "y_pred = dt_model.predict(x_test)"
   ]
  },
  {
   "cell_type": "markdown",
   "metadata": {},
   "source": [
    "### 8. Ensembled Classifier"
   ]
  },
  {
   "cell_type": "code",
   "execution_count": 25,
   "metadata": {},
   "outputs": [],
   "source": [
    "from sklearn.ensemble import BaggingClassifier\n",
    "from sklearn.neighbors import KNeighborsClassifier\n",
    "bagging_model = BaggingClassifier(KNeighborsClassifier(),max_samples=0.5, max_features=0.5)\n",
    "bagging_model.fit(x_train, y_train)\n",
    "y_pred = bagging_model.predict(x_test)"
   ]
  },
  {
   "cell_type": "markdown",
   "metadata": {},
   "source": [
    "### 9. ExtraTreesClassifier"
   ]
  },
  {
   "cell_type": "code",
   "execution_count": 26,
   "metadata": {},
   "outputs": [],
   "source": [
    "from sklearn.ensemble import ExtraTreesClassifier\n",
    "et_model = RandomForestClassifier(n_estimators=10, max_depth=None,min_samples_split=2, random_state=0)\n",
    "et_model.fit(x_train, y_train)\n",
    "y_pred = et_model.predict(x_test)"
   ]
  },
  {
   "cell_type": "markdown",
   "metadata": {},
   "source": [
    "### 10. VotingClassifier"
   ]
  },
  {
   "cell_type": "code",
   "execution_count": 27,
   "metadata": {},
   "outputs": [],
   "source": [
    "from sklearn.ensemble import VotingClassifier"
   ]
  },
  {
   "cell_type": "markdown",
   "metadata": {},
   "source": [
    "### Comparing Actual and Predicted Value"
   ]
  },
  {
   "cell_type": "code",
   "execution_count": 28,
   "metadata": {},
   "outputs": [
    {
     "name": "stdout",
     "output_type": "stream",
     "text": [
      "SVM\n",
      "   Actual  Predicted\n",
      "0       2          2\n",
      "1       0          0\n",
      "2       2          2\n",
      "3       2          2\n",
      "4       2          2\n",
      "\n",
      "LogisticRegression\n",
      "   Actual  Predicted\n",
      "0       2          2\n",
      "1       0          0\n",
      "2       2          2\n",
      "3       2          2\n",
      "4       2          2\n",
      "\n",
      "k-Nearest Neighbors Classifier\n",
      "   Actual  Predicted\n",
      "0       2          2\n",
      "1       0          0\n",
      "2       2          2\n",
      "3       2          2\n",
      "4       2          2\n",
      "\n",
      "GaussianNB\n",
      "   Actual  Predicted\n",
      "0       2          2\n",
      "1       0          0\n",
      "2       2          2\n",
      "3       2          2\n",
      "4       2          2\n",
      "\n",
      "Random Forest\n",
      "   Actual  Predicted\n",
      "0       2          2\n",
      "1       0          0\n",
      "2       2          2\n",
      "3       2          2\n",
      "4       2          2\n",
      "\n",
      "XGBoost\n",
      "   Actual  Predicted\n",
      "0       2          2\n",
      "1       0          0\n",
      "2       2          2\n",
      "3       2          2\n",
      "4       2          2\n",
      "\n",
      "DecisionTreeClassifier\n",
      "   Actual  Predicted\n",
      "0       2          2\n",
      "1       0          0\n",
      "2       2          2\n",
      "3       2          2\n",
      "4       2          2\n",
      "\n",
      "Ensembled Classifier\n",
      "   Actual  Predicted\n",
      "0       2          2\n",
      "1       0          0\n",
      "2       2          2\n",
      "3       2          2\n",
      "4       2          2\n",
      "\n",
      "ExtraTreesClassifier\n",
      "   Actual  Predicted\n",
      "0       2          2\n",
      "1       0          0\n",
      "2       2          2\n",
      "3       2          2\n",
      "4       2          2\n",
      "\n"
     ]
    }
   ],
   "source": [
    "models = [svm_model, lr_model, knn_model, gnb_model, rnn_model, xgb_model, dt_model, bagging_model, et_model]\n",
    "model_names = [\"SVM\", \"LogisticRegression\", \"k-Nearest Neighbors Classifier\", \"GaussianNB\", \"Random Forest\", \"XGBoost\", \"DecisionTreeClassifier\", \"Ensembled Classifier\", \"ExtraTreesClassifier\"]\n",
    "for model,model_name in zip(models,model_names):\n",
    "    df = pd.DataFrame({'Actual': y_test, 'Predicted': model.predict(x_test)})  \n",
    "    print(f\"{model_name}\\n{df.head()}\\n\")"
   ]
  },
  {
   "cell_type": "markdown",
   "metadata": {},
   "source": [
    "<a id=\"model_accuracy\"></a> [Custom Model](#custom_model)\n",
    "## Accuracy Score"
   ]
  },
  {
   "cell_type": "code",
   "execution_count": 29,
   "metadata": {},
   "outputs": [
    {
     "name": "stdout",
     "output_type": "stream",
     "text": [
      "SVM Accuracy Score = 0.9778\n",
      "LogisticRegression Accuracy Score = 0.9778\n",
      "k-Nearest Neighbors Classifier Accuracy Score = 0.9778\n",
      "GaussianNB Accuracy Score = 0.9778\n",
      "Random Forest Accuracy Score = 0.9778\n",
      "XGBoost Accuracy Score = 0.9778\n",
      "DecisionTreeClassifier Accuracy Score = 0.9778\n",
      "Ensembled Classifier Accuracy Score = 0.9778\n",
      "ExtraTreesClassifier Accuracy Score = 0.9778\n"
     ]
    }
   ],
   "source": [
    "from sklearn.metrics import accuracy_score\n",
    "\n",
    "models = [svm_model, lr_model, knn_model, gnb_model, rnn_model, xgb_model, dt_model, bagging_model, et_model]\n",
    "model_names = [\"SVM\", \"LogisticRegression\", \"k-Nearest Neighbors Classifier\", \"GaussianNB\", \"Random Forest\", \"XGBoost\", \"DecisionTreeClassifier\", \"Ensembled Classifier\", \"ExtraTreesClassifier\"]\n",
    "for model,model_name in zip(models,model_names):\n",
    "    score = accuracy_score(y_test, model.predict(x_test))\n",
    "    print(f\"{model_name} Accuracy Score = {round(score,4)}\")\n"
   ]
  },
  {
   "cell_type": "markdown",
   "metadata": {},
   "source": [
    "## Confusion Matrix"
   ]
  },
  {
   "cell_type": "code",
   "execution_count": 30,
   "metadata": {},
   "outputs": [
    {
     "name": "stdout",
     "output_type": "stream",
     "text": [
      "SVM \n",
      "**Confusion Matrix**\n",
      "[[21  0  0]\n",
      " [ 0  9  1]\n",
      " [ 0  0 14]]\n",
      "\n",
      "LogisticRegression \n",
      "**Confusion Matrix**\n",
      "[[21  0  0]\n",
      " [ 0  9  1]\n",
      " [ 0  0 14]]\n",
      "\n",
      "k-Nearest Neighbors Classifier \n",
      "**Confusion Matrix**\n",
      "[[21  0  0]\n",
      " [ 0  9  1]\n",
      " [ 0  0 14]]\n",
      "\n",
      "GaussianNB \n",
      "**Confusion Matrix**\n",
      "[[21  0  0]\n",
      " [ 0 10  0]\n",
      " [ 0  1 13]]\n",
      "\n",
      "Random Forest \n",
      "**Confusion Matrix**\n",
      "[[21  0  0]\n",
      " [ 0  9  1]\n",
      " [ 0  0 14]]\n",
      "\n",
      "XGBoost \n",
      "**Confusion Matrix**\n",
      "[[21  0  0]\n",
      " [ 0  9  1]\n",
      " [ 0  0 14]]\n",
      "\n",
      "DecisionTreeClassifier \n",
      "**Confusion Matrix**\n",
      "[[21  0  0]\n",
      " [ 0  9  1]\n",
      " [ 0  0 14]]\n",
      "\n",
      "Ensembled Classifier \n",
      "**Confusion Matrix**\n",
      "[[21  0  0]\n",
      " [ 0 10  0]\n",
      " [ 0  1 13]]\n",
      "\n",
      "ExtraTreesClassifier \n",
      "**Confusion Matrix**\n",
      "[[21  0  0]\n",
      " [ 0 10  0]\n",
      " [ 0  1 13]]\n",
      "\n"
     ]
    }
   ],
   "source": [
    "from sklearn.metrics import confusion_matrix\n",
    "\n",
    "models = [svm_model, lr_model, knn_model, gnb_model, rnn_model, xgb_model, dt_model, bagging_model, et_model]\n",
    "model_names = [\"SVM\", \"LogisticRegression\", \"k-Nearest Neighbors Classifier\", \"GaussianNB\", \"Random Forest\", \"XGBoost\", \"DecisionTreeClassifier\", \"Ensembled Classifier\", \"ExtraTreesClassifier\"]\n",
    "for model,model_name in zip(models,model_names):\n",
    "    matrix = confusion_matrix(y_test, model.predict(x_test))\n",
    "    print(f\"{model_name} \\n**Confusion Matrix**\\n{matrix}\\n\")\n"
   ]
  },
  {
   "cell_type": "markdown",
   "metadata": {},
   "source": [
    "## Classification Report"
   ]
  },
  {
   "cell_type": "code",
   "execution_count": 31,
   "metadata": {},
   "outputs": [
    {
     "name": "stdout",
     "output_type": "stream",
     "text": [
      "SVM \n",
      "classification_report\n",
      "              precision    recall  f1-score   support\n",
      "\n",
      "           0       1.00      1.00      1.00        21\n",
      "           1       1.00      0.90      0.95        10\n",
      "           2       0.93      1.00      0.97        14\n",
      "\n",
      "    accuracy                           0.98        45\n",
      "   macro avg       0.98      0.97      0.97        45\n",
      "weighted avg       0.98      0.98      0.98        45\n",
      "\n",
      "\n",
      "LogisticRegression \n",
      "classification_report\n",
      "              precision    recall  f1-score   support\n",
      "\n",
      "           0       1.00      1.00      1.00        21\n",
      "           1       1.00      0.90      0.95        10\n",
      "           2       0.93      1.00      0.97        14\n",
      "\n",
      "    accuracy                           0.98        45\n",
      "   macro avg       0.98      0.97      0.97        45\n",
      "weighted avg       0.98      0.98      0.98        45\n",
      "\n",
      "\n",
      "k-Nearest Neighbors Classifier \n",
      "classification_report\n",
      "              precision    recall  f1-score   support\n",
      "\n",
      "           0       1.00      1.00      1.00        21\n",
      "           1       1.00      0.90      0.95        10\n",
      "           2       0.93      1.00      0.97        14\n",
      "\n",
      "    accuracy                           0.98        45\n",
      "   macro avg       0.98      0.97      0.97        45\n",
      "weighted avg       0.98      0.98      0.98        45\n",
      "\n",
      "\n",
      "GaussianNB \n",
      "classification_report\n",
      "              precision    recall  f1-score   support\n",
      "\n",
      "           0       1.00      1.00      1.00        21\n",
      "           1       0.91      1.00      0.95        10\n",
      "           2       1.00      0.93      0.96        14\n",
      "\n",
      "    accuracy                           0.98        45\n",
      "   macro avg       0.97      0.98      0.97        45\n",
      "weighted avg       0.98      0.98      0.98        45\n",
      "\n",
      "\n",
      "Random Forest \n",
      "classification_report\n",
      "              precision    recall  f1-score   support\n",
      "\n",
      "           0       1.00      1.00      1.00        21\n",
      "           1       1.00      0.90      0.95        10\n",
      "           2       0.93      1.00      0.97        14\n",
      "\n",
      "    accuracy                           0.98        45\n",
      "   macro avg       0.98      0.97      0.97        45\n",
      "weighted avg       0.98      0.98      0.98        45\n",
      "\n",
      "\n",
      "XGBoost \n",
      "classification_report\n",
      "              precision    recall  f1-score   support\n",
      "\n",
      "           0       1.00      1.00      1.00        21\n",
      "           1       1.00      0.90      0.95        10\n",
      "           2       0.93      1.00      0.97        14\n",
      "\n",
      "    accuracy                           0.98        45\n",
      "   macro avg       0.98      0.97      0.97        45\n",
      "weighted avg       0.98      0.98      0.98        45\n",
      "\n",
      "\n",
      "DecisionTreeClassifier \n",
      "classification_report\n",
      "              precision    recall  f1-score   support\n",
      "\n",
      "           0       1.00      1.00      1.00        21\n",
      "           1       1.00      0.90      0.95        10\n",
      "           2       0.93      1.00      0.97        14\n",
      "\n",
      "    accuracy                           0.98        45\n",
      "   macro avg       0.98      0.97      0.97        45\n",
      "weighted avg       0.98      0.98      0.98        45\n",
      "\n",
      "\n",
      "Ensembled Classifier \n",
      "classification_report\n",
      "              precision    recall  f1-score   support\n",
      "\n",
      "           0       1.00      1.00      1.00        21\n",
      "           1       0.91      1.00      0.95        10\n",
      "           2       1.00      0.93      0.96        14\n",
      "\n",
      "    accuracy                           0.98        45\n",
      "   macro avg       0.97      0.98      0.97        45\n",
      "weighted avg       0.98      0.98      0.98        45\n",
      "\n",
      "\n",
      "ExtraTreesClassifier \n",
      "classification_report\n",
      "              precision    recall  f1-score   support\n",
      "\n",
      "           0       1.00      1.00      1.00        21\n",
      "           1       0.91      1.00      0.95        10\n",
      "           2       1.00      0.93      0.96        14\n",
      "\n",
      "    accuracy                           0.98        45\n",
      "   macro avg       0.97      0.98      0.97        45\n",
      "weighted avg       0.98      0.98      0.98        45\n",
      "\n",
      "\n"
     ]
    }
   ],
   "source": [
    "from sklearn.metrics import classification_report\n",
    "\n",
    "models = [svm_model, lr_model, knn_model, gnb_model, rnn_model, xgb_model, dt_model, bagging_model, et_model]\n",
    "model_names = [\"SVM\", \"LogisticRegression\", \"k-Nearest Neighbors Classifier\", \"GaussianNB\", \"Random Forest\", \"XGBoost\", \"DecisionTreeClassifier\", \"Ensembled Classifier\", \"ExtraTreesClassifier\"]\n",
    "for model,model_name in zip(models,model_names):\n",
    "    c_report = classification_report(y_test, model.predict(x_test))\n",
    "    print(f\"{model_name} \\nclassification_report\\n{c_report}\\n\")"
   ]
  },
  {
   "cell_type": "markdown",
   "metadata": {},
   "source": [
    "<a id=\"custom_model\"></a>\n",
    "## Evaluating model for a custom input"
   ]
  },
  {
   "cell_type": "code",
   "execution_count": 32,
   "metadata": {},
   "outputs": [
    {
     "data": {
      "text/plain": [
       "array([6.4, 2.8, 5.6, 2.1])"
      ]
     },
     "execution_count": 32,
     "metadata": {},
     "output_type": "execute_result"
    }
   ],
   "source": [
    "x_test[0,:]"
   ]
  },
  {
   "cell_type": "code",
   "execution_count": 33,
   "metadata": {},
   "outputs": [
    {
     "name": "stdout",
     "output_type": "stream",
     "text": [
      "SVM Prediction = [2]\n",
      "LogisticRegression Prediction = [2]\n",
      "k-Nearest Neighbors Classifier Prediction = [2]\n",
      "GaussianNB Prediction = [2]\n",
      "Random Forest Prediction = [2]\n",
      "XGBoost Prediction = [2]\n",
      "DecisionTreeClassifier Prediction = [2]\n",
      "Ensembled Classifier Prediction = [2]\n",
      "ExtraTreesClassifier Prediction = [2]\n"
     ]
    }
   ],
   "source": [
    "test_value = np.array([[7.5,3,6,2.5]])\n",
    "\n",
    "models = [svm_model, lr_model, knn_model, gnb_model, rnn_model, xgb_model, dt_model, bagging_model, et_model]\n",
    "model_names = [\"SVM\", \"LogisticRegression\", \"k-Nearest Neighbors Classifier\", \"GaussianNB\", \"Random Forest\", \"XGBoost\", \"DecisionTreeClassifier\", \"Ensembled Classifier\", \"ExtraTreesClassifier\"]\n",
    "\n",
    "for model,model_name in zip(models,model_names):\n",
    "    own_pred = model.predict(test_value)\n",
    "    print(f\"{model_name} Prediction = {own_pred}\")\n",
    "    "
   ]
  },
  {
   "cell_type": "markdown",
   "metadata": {},
   "source": [
    "##### Note\n",
    "Prediction = [2] corresponds to \"Iris-versicolor\""
   ]
  },
  {
   "cell_type": "markdown",
   "metadata": {},
   "source": [
    "[ML Models](#ml_models) |  [Model Accuracy](#model_accuracy) |  [Page Top](#top)"
   ]
  },
  {
   "cell_type": "code",
   "execution_count": null,
   "metadata": {},
   "outputs": [],
   "source": []
  }
 ],
 "metadata": {
  "kernelspec": {
   "display_name": "Python 3",
   "language": "python",
   "name": "python3"
  },
  "language_info": {
   "codemirror_mode": {
    "name": "ipython",
    "version": 3
   },
   "file_extension": ".py",
   "mimetype": "text/x-python",
   "name": "python",
   "nbconvert_exporter": "python",
   "pygments_lexer": "ipython3",
   "version": "3.7.6"
  }
 },
 "nbformat": 4,
 "nbformat_minor": 4
}
