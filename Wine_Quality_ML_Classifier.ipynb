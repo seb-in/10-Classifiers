{
 "cells": [
  {
   "cell_type": "markdown",
   "metadata": {},
   "source": [
    "# Determining Wine quality"
   ]
  },
  {
   "cell_type": "code",
   "execution_count": 1,
   "metadata": {},
   "outputs": [],
   "source": [
    "import pandas as pd \n",
    "import numpy as np\n",
    "import seaborn as sns\n",
    "import matplotlib.pyplot as plt"
   ]
  },
  {
   "cell_type": "markdown",
   "metadata": {},
   "source": [
    "## Importing wine-quality dataset"
   ]
  },
  {
   "cell_type": "code",
   "execution_count": 2,
   "metadata": {},
   "outputs": [
    {
     "data": {
      "text/html": [
       "<div>\n",
       "<style scoped>\n",
       "    .dataframe tbody tr th:only-of-type {\n",
       "        vertical-align: middle;\n",
       "    }\n",
       "\n",
       "    .dataframe tbody tr th {\n",
       "        vertical-align: top;\n",
       "    }\n",
       "\n",
       "    .dataframe thead th {\n",
       "        text-align: right;\n",
       "    }\n",
       "</style>\n",
       "<table border=\"1\" class=\"dataframe\">\n",
       "  <thead>\n",
       "    <tr style=\"text-align: right;\">\n",
       "      <th></th>\n",
       "      <th>fixed acidity</th>\n",
       "      <th>volatile acidity</th>\n",
       "      <th>citric acid</th>\n",
       "      <th>residual sugar</th>\n",
       "      <th>chlorides</th>\n",
       "      <th>free sulfur dioxide</th>\n",
       "      <th>total sulfur dioxide</th>\n",
       "      <th>density</th>\n",
       "      <th>pH</th>\n",
       "      <th>sulphates</th>\n",
       "      <th>alcohol</th>\n",
       "      <th>quality</th>\n",
       "    </tr>\n",
       "  </thead>\n",
       "  <tbody>\n",
       "    <tr>\n",
       "      <th>0</th>\n",
       "      <td>7.4</td>\n",
       "      <td>0.70</td>\n",
       "      <td>0.00</td>\n",
       "      <td>1.9</td>\n",
       "      <td>0.076</td>\n",
       "      <td>11.0</td>\n",
       "      <td>34.0</td>\n",
       "      <td>0.9978</td>\n",
       "      <td>3.51</td>\n",
       "      <td>0.56</td>\n",
       "      <td>9.4</td>\n",
       "      <td>5</td>\n",
       "    </tr>\n",
       "    <tr>\n",
       "      <th>1</th>\n",
       "      <td>7.8</td>\n",
       "      <td>0.88</td>\n",
       "      <td>0.00</td>\n",
       "      <td>2.6</td>\n",
       "      <td>0.098</td>\n",
       "      <td>25.0</td>\n",
       "      <td>67.0</td>\n",
       "      <td>0.9968</td>\n",
       "      <td>3.20</td>\n",
       "      <td>0.68</td>\n",
       "      <td>9.8</td>\n",
       "      <td>5</td>\n",
       "    </tr>\n",
       "    <tr>\n",
       "      <th>2</th>\n",
       "      <td>7.8</td>\n",
       "      <td>0.76</td>\n",
       "      <td>0.04</td>\n",
       "      <td>2.3</td>\n",
       "      <td>0.092</td>\n",
       "      <td>15.0</td>\n",
       "      <td>54.0</td>\n",
       "      <td>0.9970</td>\n",
       "      <td>3.26</td>\n",
       "      <td>0.65</td>\n",
       "      <td>9.8</td>\n",
       "      <td>5</td>\n",
       "    </tr>\n",
       "    <tr>\n",
       "      <th>3</th>\n",
       "      <td>11.2</td>\n",
       "      <td>0.28</td>\n",
       "      <td>0.56</td>\n",
       "      <td>1.9</td>\n",
       "      <td>0.075</td>\n",
       "      <td>17.0</td>\n",
       "      <td>60.0</td>\n",
       "      <td>0.9980</td>\n",
       "      <td>3.16</td>\n",
       "      <td>0.58</td>\n",
       "      <td>9.8</td>\n",
       "      <td>6</td>\n",
       "    </tr>\n",
       "    <tr>\n",
       "      <th>4</th>\n",
       "      <td>7.4</td>\n",
       "      <td>0.70</td>\n",
       "      <td>0.00</td>\n",
       "      <td>1.9</td>\n",
       "      <td>0.076</td>\n",
       "      <td>11.0</td>\n",
       "      <td>34.0</td>\n",
       "      <td>0.9978</td>\n",
       "      <td>3.51</td>\n",
       "      <td>0.56</td>\n",
       "      <td>9.4</td>\n",
       "      <td>5</td>\n",
       "    </tr>\n",
       "  </tbody>\n",
       "</table>\n",
       "</div>"
      ],
      "text/plain": [
       "   fixed acidity  volatile acidity  citric acid  residual sugar  chlorides  \\\n",
       "0            7.4              0.70         0.00             1.9      0.076   \n",
       "1            7.8              0.88         0.00             2.6      0.098   \n",
       "2            7.8              0.76         0.04             2.3      0.092   \n",
       "3           11.2              0.28         0.56             1.9      0.075   \n",
       "4            7.4              0.70         0.00             1.9      0.076   \n",
       "\n",
       "   free sulfur dioxide  total sulfur dioxide  density    pH  sulphates  \\\n",
       "0                 11.0                  34.0   0.9978  3.51       0.56   \n",
       "1                 25.0                  67.0   0.9968  3.20       0.68   \n",
       "2                 15.0                  54.0   0.9970  3.26       0.65   \n",
       "3                 17.0                  60.0   0.9980  3.16       0.58   \n",
       "4                 11.0                  34.0   0.9978  3.51       0.56   \n",
       "\n",
       "   alcohol  quality  \n",
       "0      9.4        5  \n",
       "1      9.8        5  \n",
       "2      9.8        5  \n",
       "3      9.8        6  \n",
       "4      9.4        5  "
      ]
     },
     "execution_count": 2,
     "metadata": {},
     "output_type": "execute_result"
    }
   ],
   "source": [
    "data = pd.read_csv(\"./csv/org_winequality.csv\")\n",
    "data.head()"
   ]
  },
  {
   "cell_type": "markdown",
   "metadata": {},
   "source": [
    "## Checking for null values"
   ]
  },
  {
   "cell_type": "code",
   "execution_count": 3,
   "metadata": {},
   "outputs": [
    {
     "data": {
      "text/plain": [
       "fixed acidity           0\n",
       "volatile acidity        0\n",
       "citric acid             0\n",
       "residual sugar          0\n",
       "chlorides               0\n",
       "free sulfur dioxide     0\n",
       "total sulfur dioxide    0\n",
       "density                 0\n",
       "pH                      0\n",
       "sulphates               0\n",
       "alcohol                 0\n",
       "quality                 0\n",
       "dtype: int64"
      ]
     },
     "execution_count": 3,
     "metadata": {},
     "output_type": "execute_result"
    }
   ],
   "source": [
    "data.isnull().sum()"
   ]
  },
  {
   "cell_type": "markdown",
   "metadata": {},
   "source": [
    "no null values in this dataset!!"
   ]
  },
  {
   "cell_type": "markdown",
   "metadata": {},
   "source": [
    "## Feature and Target Selection"
   ]
  },
  {
   "cell_type": "code",
   "execution_count": 4,
   "metadata": {},
   "outputs": [],
   "source": [
    "features = data.iloc[:,:-1]\n",
    "y_temp = data.iloc[:,-1]\n",
    "\n",
    "y = y_temp.values\n",
    "X = features.values"
   ]
  },
  {
   "cell_type": "markdown",
   "metadata": {},
   "source": [
    "##### checking x and y values"
   ]
  },
  {
   "cell_type": "code",
   "execution_count": 5,
   "metadata": {},
   "outputs": [
    {
     "name": "stdout",
     "output_type": "stream",
     "text": [
      "[[ 7.4    0.7    0.    ...  3.51   0.56   9.4  ]\n",
      " [ 7.8    0.88   0.    ...  3.2    0.68   9.8  ]\n",
      " [ 7.8    0.76   0.04  ...  3.26   0.65   9.8  ]\n",
      " ...\n",
      " [ 6.3    0.51   0.13  ...  3.42   0.75  11.   ]\n",
      " [ 5.9    0.645  0.12  ...  3.57   0.71  10.2  ]\n",
      " [ 6.     0.31   0.47  ...  3.39   0.66  11.   ]]\n",
      "[5 5 5 ... 6 5 6]\n"
     ]
    }
   ],
   "source": [
    "print(X)\n",
    "print(y)"
   ]
  },
  {
   "cell_type": "markdown",
   "metadata": {},
   "source": [
    "##### exploring unique values of y"
   ]
  },
  {
   "cell_type": "code",
   "execution_count": 6,
   "metadata": {},
   "outputs": [
    {
     "name": "stdout",
     "output_type": "stream",
     "text": [
      "[5 6 7 4 8 3]\n"
     ]
    }
   ],
   "source": [
    "print(y_temp.unique())"
   ]
  },
  {
   "cell_type": "markdown",
   "metadata": {},
   "source": [
    "## Inspecting Correlation"
   ]
  },
  {
   "cell_type": "code",
   "execution_count": 7,
   "metadata": {},
   "outputs": [
    {
     "data": {
      "text/plain": [
       "<matplotlib.axes._subplots.AxesSubplot at 0x9b23148>"
      ]
     },
     "execution_count": 7,
     "metadata": {},
     "output_type": "execute_result"
    },
    {
     "data": {
      "image/png": "[encoded data removed]",
      "text/plain": [
       "<Figure size 648x360 with 2 Axes>"
      ]
     },
     "metadata": {
      "needs_background": "light"
     },
     "output_type": "display_data"
    }
   ],
   "source": [
    "plt.figure(figsize=(9,5))\n",
    "sns.heatmap(features.corr(), cmap=\"Blues\", annot=True)"
   ]
  },
  {
   "cell_type": "markdown",
   "metadata": {},
   "source": [
    "## PCA (Principal Component Analysis)"
   ]
  },
  {
   "cell_type": "code",
   "execution_count": 8,
   "metadata": {},
   "outputs": [
    {
     "name": "stdout",
     "output_type": "stream",
     "text": [
      "[[-13.22490501  -2.02389981]\n",
      " [ 22.03772361   4.40832155]\n",
      " [  7.16267333  -2.50146086]\n",
      " ...\n",
      " [ -3.43135351  14.27124349]\n",
      " [  1.13287834  16.31616732]\n",
      " [ -3.8743766    3.12634754]]\n"
     ]
    }
   ],
   "source": [
    "from sklearn.decomposition import PCA\n",
    "pca = PCA(n_components=2)\n",
    "X_r = pca.fit_transform(X)\n",
    "\n",
    "print(X_r)"
   ]
  },
  {
   "cell_type": "markdown",
   "metadata": {},
   "source": [
    "##### Note\n",
    "Here 'y' ie 'quality' has [5 6 7 4 8 3] values as unique values\n",
    "\n",
    "We need to plot 'X_r' for each of this 'y' values and see if there is a hyper-plane seperating 'quality'"
   ]
  },
  {
   "cell_type": "code",
   "execution_count": 9,
   "metadata": {},
   "outputs": [],
   "source": [
    "q = {}\n",
    "wine_quality = [3,4,5,6,7,8]\n",
    "for wq in wine_quality:\n",
    "    q[\"string{0}\".format(wq)] = np.array([row for row,index in zip(X_r, y) if index==wq])"
   ]
  },
  {
   "cell_type": "markdown",
   "metadata": {},
   "source": [
    "##### Note: DRY\n",
    "* q[\"string{0}\".format(wq)] creates new variable (viz. q3,q4,q5,q6,q7,q8) every time while looping through,\n",
    "\n",
    "    this helps us in needing to repeat our code \n"
   ]
  },
  {
   "cell_type": "markdown",
   "metadata": {},
   "source": [
    "## Plotting to analyse if there is a line/plane that seperates various wine qualities"
   ]
  },
  {
   "cell_type": "code",
   "execution_count": 11,
   "metadata": {},
   "outputs": [
    {
     "data": {
      "image/png": "[encoded data removed]",
      "text/plain": [
       "<Figure size 432x288 with 1 Axes>"
      ]
     },
     "metadata": {
      "needs_background": "light"
     },
     "output_type": "display_data"
    }
   ],
   "source": [
    "wine_quality = [3,4,5,6,7,8]\n",
    "for w in wine_quality:\n",
    "    plt.scatter(q[\"string{0}\".format(w)][:,0],q[\"string{0}\".format(w)][:,1], label = \"Quality:\"+str(w))\n",
    "    plt.legend(loc=\"upper right\")\n",
    "    plt.title(\"PCA vs WineQuality\")\n",
    "    \n",
    "plt.savefig(\"./csv/graph.png\", dpi = 150)\n",
    "plt.show()\n"
   ]
  },
  {
   "cell_type": "markdown",
   "metadata": {},
   "source": [
    "### Splitting the dataset for training and testing"
   ]
  },
  {
   "cell_type": "code",
   "execution_count": 44,
   "metadata": {},
   "outputs": [],
   "source": [
    "from sklearn.model_selection import train_test_split\n",
    "x_train,x_test,y_train,y_test = train_test_split(X,y,test_size=0.3,random_state=4)"
   ]
  },
  {
   "cell_type": "markdown",
   "metadata": {},
   "source": [
    "## Applying diffirent ML model to classify and predict the target"
   ]
  },
  {
   "cell_type": "markdown",
   "metadata": {},
   "source": [
    "#### 1. SVM\n",
    "#### 2. LogisticRegression\n",
    "#### 3. k-Nearest Neighbors Classifier\n",
    "#### 4. GaussianNB \n",
    "#### 5. Random Forest\n",
    "#### 6. XGBoost\n",
    "#### 7. DecisionTreeClassifier\n",
    "#### 8. Ensembled Classifier\n",
    "#### 9. ExtraTreesClassifier\n",
    "#### 10. VotingClassifier"
   ]
  },
  {
   "cell_type": "markdown",
   "metadata": {},
   "source": [
    "### 1. SVM"
   ]
  },
  {
   "cell_type": "code",
   "execution_count": 47,
   "metadata": {},
   "outputs": [],
   "source": [
    "from sklearn import svm\n",
    "svm_model = svm.SVC(C=1.0,kernel='rbf')\n",
    "svm_model.fit(x_train, y_train)\n",
    "y_pred = svm_model.predict(x_test)"
   ]
  },
  {
   "cell_type": "markdown",
   "metadata": {},
   "source": [
    "### 2.  LogisticRegression"
   ]
  },
  {
   "cell_type": "code",
   "execution_count": 48,
   "metadata": {},
   "outputs": [
    {
     "name": "stderr",
     "output_type": "stream",
     "text": [
      "C:\\Users\\HP\\anaconda3\\lib\\site-packages\\sklearn\\linear_model\\_logistic.py:940: ConvergenceWarning: lbfgs failed to converge (status=1):\n",
      "STOP: TOTAL NO. of ITERATIONS REACHED LIMIT.\n",
      "\n",
      "Increase the number of iterations (max_iter) or scale the data as shown in:\n",
      "    https://scikit-learn.org/stable/modules/preprocessing.html\n",
      "Please also refer to the documentation for alternative solver options:\n",
      "    https://scikit-learn.org/stable/modules/linear_model.html#logistic-regression\n",
      "  extra_warning_msg=_LOGISTIC_SOLVER_CONVERGENCE_MSG)\n"
     ]
    }
   ],
   "source": [
    "from sklearn.linear_model import LogisticRegression\n",
    "lr_model = LogisticRegression()\n",
    "lr_model.fit(x_train, y_train)\n",
    "y_pred = lr_model.predict(x_test)"
   ]
  },
  {
   "cell_type": "markdown",
   "metadata": {},
   "source": [
    "### 3. k-Nearest Neighbors Classifier"
   ]
  },
  {
   "cell_type": "code",
   "execution_count": 49,
   "metadata": {},
   "outputs": [],
   "source": [
    "from sklearn.neighbors import KNeighborsClassifier\n",
    "knn_model = KNeighborsClassifier()\n",
    "knn_model.fit(x_train, y_train)\n",
    "y_pred = knn_model.predict(x_test)"
   ]
  },
  {
   "cell_type": "markdown",
   "metadata": {},
   "source": [
    "### 4. GaussianNB"
   ]
  },
  {
   "cell_type": "code",
   "execution_count": 50,
   "metadata": {},
   "outputs": [],
   "source": [
    "from sklearn.naive_bayes import GaussianNB\n",
    "gnb_model = GaussianNB()\n",
    "gnb_model.fit(x_train, y_train)\n",
    "y_pred = gnb_model.predict(x_test)"
   ]
  },
  {
   "cell_type": "markdown",
   "metadata": {},
   "source": [
    "### 5. Random Forest"
   ]
  },
  {
   "cell_type": "code",
   "execution_count": 51,
   "metadata": {},
   "outputs": [],
   "source": [
    "from sklearn.ensemble import RandomForestClassifier\n",
    "rnn_model = RandomForestClassifier(n_estimators=200)\n",
    "rnn_model.fit(x_train, y_train)\n",
    "y_pred = rnn_model.predict(x_test)"
   ]
  },
  {
   "cell_type": "markdown",
   "metadata": {},
   "source": [
    "### 6. XGBoost"
   ]
  },
  {
   "cell_type": "code",
   "execution_count": 52,
   "metadata": {},
   "outputs": [],
   "source": [
    "import xgboost as xgb\n",
    "xgb_model = xgb.XGBClassifier(max_depth=3, n_estimators=300, learning_rate=0.05).fit(x_train, y_train)\n",
    "y_pred = xgb_model.predict(x_test)"
   ]
  },
  {
   "cell_type": "markdown",
   "metadata": {},
   "source": [
    "### 7. DecisionTreeClassifier"
   ]
  },
  {
   "cell_type": "code",
   "execution_count": 53,
   "metadata": {},
   "outputs": [],
   "source": [
    "from sklearn.tree import DecisionTreeClassifier\n",
    "dt_model = DecisionTreeClassifier(random_state=0).fit(x_train, y_train)\n",
    "y_pred = dt_model.predict(x_test)"
   ]
  },
  {
   "cell_type": "markdown",
   "metadata": {},
   "source": [
    "### 8. Ensembled Classifier"
   ]
  },
  {
   "cell_type": "code",
   "execution_count": 54,
   "metadata": {},
   "outputs": [],
   "source": [
    "from sklearn.ensemble import BaggingClassifier\n",
    "from sklearn.neighbors import KNeighborsClassifier\n",
    "bagging_model = BaggingClassifier(KNeighborsClassifier(),max_samples=0.5, max_features=0.5)\n",
    "bagging_model.fit(x_train, y_train)\n",
    "y_pred = bagging_model.predict(x_test)"
   ]
  },
  {
   "cell_type": "markdown",
   "metadata": {},
   "source": [
    "### 9. ExtraTreesClassifier"
   ]
  },
  {
   "cell_type": "code",
   "execution_count": 55,
   "metadata": {},
   "outputs": [],
   "source": [
    "from sklearn.ensemble import ExtraTreesClassifier\n",
    "et_model = RandomForestClassifier(n_estimators=10, max_depth=None,min_samples_split=2, random_state=0)\n",
    "et_model.fit(x_train, y_train)\n",
    "y_pred = et_model.predict(x_test)"
   ]
  },
  {
   "cell_type": "markdown",
   "metadata": {},
   "source": [
    "### Comparing Actual and Predicted Value"
   ]
  },
  {
   "cell_type": "code",
   "execution_count": 56,
   "metadata": {},
   "outputs": [
    {
     "name": "stdout",
     "output_type": "stream",
     "text": [
      "SVM\n",
      "   Actual  Predicted\n",
      "0       5          5\n",
      "1       5          6\n",
      "2       7          6\n",
      "3       8          6\n",
      "4       5          5\n",
      "\n",
      "LogisticRegression\n",
      "   Actual  Predicted\n",
      "0       5          5\n",
      "1       5          5\n",
      "2       7          6\n",
      "3       8          6\n",
      "4       5          5\n",
      "\n",
      "k-Nearest Neighbors Classifier\n",
      "   Actual  Predicted\n",
      "0       5          5\n",
      "1       5          6\n",
      "2       7          4\n",
      "3       8          6\n",
      "4       5          5\n",
      "\n",
      "GaussianNB\n",
      "   Actual  Predicted\n",
      "0       5          5\n",
      "1       5          5\n",
      "2       7          7\n",
      "3       8          7\n",
      "4       5          5\n",
      "\n",
      "Random Forest\n",
      "   Actual  Predicted\n",
      "0       5          5\n",
      "1       5          5\n",
      "2       7          7\n",
      "3       8          8\n",
      "4       5          5\n",
      "\n",
      "XGBoost\n",
      "   Actual  Predicted\n",
      "0       5          5\n",
      "1       5          5\n",
      "2       7          7\n",
      "3       8          8\n",
      "4       5          5\n",
      "\n",
      "DecisionTreeClassifier\n",
      "   Actual  Predicted\n",
      "0       5          5\n",
      "1       5          5\n",
      "2       7          7\n",
      "3       8          8\n",
      "4       5          5\n",
      "\n",
      "Ensembled Classifier\n",
      "   Actual  Predicted\n",
      "0       5          5\n",
      "1       5          6\n",
      "2       7          6\n",
      "3       8          6\n",
      "4       5          5\n",
      "\n",
      "ExtraTreesClassifier\n",
      "   Actual  Predicted\n",
      "0       5          6\n",
      "1       5          5\n",
      "2       7          7\n",
      "3       8          8\n",
      "4       5          5\n",
      "\n"
     ]
    }
   ],
   "source": [
    "models = [svm_model, lr_model, knn_model, gnb_model, rnn_model, xgb_model, dt_model, bagging_model, et_model]\n",
    "model_names = [\"SVM\", \"LogisticRegression\", \"k-Nearest Neighbors Classifier\", \"GaussianNB\", \"Random Forest\", \"XGBoost\", \"DecisionTreeClassifier\", \"Ensembled Classifier\", \"ExtraTreesClassifier\"]\n",
    "for model,model_name in zip(models,model_names):\n",
    "    df = pd.DataFrame({'Actual': y_test, 'Predicted': model.predict(x_test)})  \n",
    "    print(f\"{model_name}\\n{df.head()}\\n\")"
   ]
  },
  {
   "cell_type": "markdown",
   "metadata": {},
   "source": [
    "## Accuracy Score"
   ]
  },
  {
   "cell_type": "code",
   "execution_count": 57,
   "metadata": {},
   "outputs": [
    {
     "name": "stdout",
     "output_type": "stream",
     "text": [
      "SVM Accuracy Score = 0.5125\n",
      "LogisticRegression Accuracy Score = 0.575\n",
      "k-Nearest Neighbors Classifier Accuracy Score = 0.5167\n",
      "GaussianNB Accuracy Score = 0.525\n",
      "Random Forest Accuracy Score = 0.6792\n",
      "XGBoost Accuracy Score = 0.6521\n",
      "DecisionTreeClassifier Accuracy Score = 0.5958\n",
      "Ensembled Classifier Accuracy Score = 0.5604\n",
      "ExtraTreesClassifier Accuracy Score = 0.65\n"
     ]
    }
   ],
   "source": [
    "from sklearn.metrics import accuracy_score\n",
    "\n",
    "models = [svm_model, lr_model, knn_model, gnb_model, rnn_model, xgb_model, dt_model, bagging_model, et_model]\n",
    "model_names = [\"SVM\", \"LogisticRegression\", \"k-Nearest Neighbors Classifier\", \"GaussianNB\", \"Random Forest\", \"XGBoost\", \"DecisionTreeClassifier\", \"Ensembled Classifier\", \"ExtraTreesClassifier\"]\n",
    "for model,model_name in zip(models,model_names):\n",
    "    score = accuracy_score(y_test, model.predict(x_test))\n",
    "    print(f\"{model_name} Accuracy Score = {round(score,4)}\")"
   ]
  },
  {
   "cell_type": "markdown",
   "metadata": {},
   "source": [
    "##### Note: \n",
    "Comparing the accuracy the sores it can be inferred that \"Random Forest\" is having the highest accuracy followed by \n",
    "* XGBoost,\n",
    "* ExtraTreesClassifier and\n",
    "* DecisionTreeClassifier\n",
    "\n",
    "SVM is the least efficient model"
   ]
  },
  {
   "cell_type": "markdown",
   "metadata": {},
   "source": [
    "## Confusion Matrix"
   ]
  },
  {
   "cell_type": "code",
   "execution_count": 58,
   "metadata": {},
   "outputs": [
    {
     "name": "stdout",
     "output_type": "stream",
     "text": [
      "SVM \n",
      "**Confusion Matrix**\n",
      "[[  0   0   0   2   0   0]\n",
      " [  0   0   2  13   0   0]\n",
      " [  0   0  99 112   0   0]\n",
      " [  0   0  44 146   0   0]\n",
      " [  0   0  10  48   1   0]\n",
      " [  0   0   0   3   0   0]]\n",
      "\n",
      "LogisticRegression \n",
      "**Confusion Matrix**\n",
      "[[  0   0   2   0   0   0]\n",
      " [  0   0  12   3   0   0]\n",
      " [  0   1 156  53   1   0]\n",
      " [  0   0  70 120   0   0]\n",
      " [  0   0   2  57   0   0]\n",
      " [  0   0   0   3   0   0]]\n",
      "\n",
      "k-Nearest Neighbors Classifier \n",
      "**Confusion Matrix**\n",
      "[[  0   0   1   1   0   0]\n",
      " [  0   0   8   6   1   0]\n",
      " [  0   6 148  53   4   0]\n",
      " [  0   3  82  90  14   1]\n",
      " [  0   4  16  29  10   0]\n",
      " [  0   0   1   2   0   0]]\n",
      "\n",
      "GaussianNB \n",
      "**Confusion Matrix**\n",
      "[[  1   0   1   0   0   0]\n",
      " [  0   1   9   5   0   0]\n",
      " [  5  11 140  47   7   1]\n",
      " [  1   5  71  76  36   1]\n",
      " [  0   0   1  24  33   1]\n",
      " [  0   0   0   1   1   1]]\n",
      "\n",
      "Random Forest \n",
      "**Confusion Matrix**\n",
      "[[  0   1   0   1   0   0]\n",
      " [  0   0  11   4   0   0]\n",
      " [  0   0 166  44   1   0]\n",
      " [  0   0  48 134   8   0]\n",
      " [  0   2   1  31  25   0]\n",
      " [  0   0   0   1   1   1]]\n",
      "\n",
      "XGBoost \n",
      "**Confusion Matrix**\n",
      "[[  0   1   0   1   0   0]\n",
      " [  0   0  11   4   0   0]\n",
      " [  3   4 162  38   4   0]\n",
      " [  0   0  55 122  12   1]\n",
      " [  0   0   1  30  28   0]\n",
      " [  0   0   0   1   1   1]]\n",
      "\n",
      "DecisionTreeClassifier \n",
      "**Confusion Matrix**\n",
      "[[  0   1   0   1   0   0]\n",
      " [  0   4   4   7   0   0]\n",
      " [  3   9 137  49  11   2]\n",
      " [  0   3  46 117  21   3]\n",
      " [  0   3   3  24  27   2]\n",
      " [  0   0   0   1   1   1]]\n",
      "\n",
      "Ensembled Classifier \n",
      "**Confusion Matrix**\n",
      "[[  0   0   2   0   0   0]\n",
      " [  0   0  11   4   0   0]\n",
      " [  0   0 156  54   1   0]\n",
      " [  0   0  78 109   3   0]\n",
      " [  0   0   6  49   4   0]\n",
      " [  0   0   0   3   0   0]]\n",
      "\n",
      "ExtraTreesClassifier \n",
      "**Confusion Matrix**\n",
      "[[  0   0   1   1   0   0]\n",
      " [  0   1  10   4   0   0]\n",
      " [  0   5 161  42   3   0]\n",
      " [  0   0  54 126  10   0]\n",
      " [  0   0   5  31  23   0]\n",
      " [  0   0   0   1   1   1]]\n",
      "\n"
     ]
    }
   ],
   "source": [
    "from sklearn.metrics import confusion_matrix\n",
    "\n",
    "models = [svm_model, lr_model, knn_model, gnb_model, rnn_model, xgb_model, dt_model, bagging_model, et_model]\n",
    "model_names = [\"SVM\", \"LogisticRegression\", \"k-Nearest Neighbors Classifier\", \"GaussianNB\", \"Random Forest\", \"XGBoost\", \"DecisionTreeClassifier\", \"Ensembled Classifier\", \"ExtraTreesClassifier\"]\n",
    "for model,model_name in zip(models,model_names):\n",
    "    matrix = confusion_matrix(y_test, model.predict(x_test))\n",
    "    print(f\"{model_name} \\n**Confusion Matrix**\\n{matrix}\\n\")"
   ]
  },
  {
   "cell_type": "markdown",
   "metadata": {},
   "source": [
    "## Classification Report"
   ]
  },
  {
   "cell_type": "code",
   "execution_count": 59,
   "metadata": {},
   "outputs": [
    {
     "name": "stderr",
     "output_type": "stream",
     "text": [
      "C:\\Users\\HP\\anaconda3\\lib\\site-packages\\sklearn\\metrics\\_classification.py:1272: UndefinedMetricWarning: Precision and F-score are ill-defined and being set to 0.0 in labels with no predicted samples. Use `zero_division` parameter to control this behavior.\n",
      "  _warn_prf(average, modifier, msg_start, len(result))\n",
      "C:\\Users\\HP\\anaconda3\\lib\\site-packages\\sklearn\\metrics\\_classification.py:1272: UndefinedMetricWarning: Precision and F-score are ill-defined and being set to 0.0 in labels with no predicted samples. Use `zero_division` parameter to control this behavior.\n",
      "  _warn_prf(average, modifier, msg_start, len(result))\n",
      "C:\\Users\\HP\\anaconda3\\lib\\site-packages\\sklearn\\metrics\\_classification.py:1272: UndefinedMetricWarning: Precision and F-score are ill-defined and being set to 0.0 in labels with no predicted samples. Use `zero_division` parameter to control this behavior.\n",
      "  _warn_prf(average, modifier, msg_start, len(result))\n",
      "C:\\Users\\HP\\anaconda3\\lib\\site-packages\\sklearn\\metrics\\_classification.py:1272: UndefinedMetricWarning: Precision and F-score are ill-defined and being set to 0.0 in labels with no predicted samples. Use `zero_division` parameter to control this behavior.\n",
      "  _warn_prf(average, modifier, msg_start, len(result))\n"
     ]
    },
    {
     "name": "stdout",
     "output_type": "stream",
     "text": [
      "SVM \n",
      "classification_report\n",
      "              precision    recall  f1-score   support\n",
      "\n",
      "           3       0.00      0.00      0.00         2\n",
      "           4       0.00      0.00      0.00        15\n",
      "           5       0.64      0.47      0.54       211\n",
      "           6       0.45      0.77      0.57       190\n",
      "           7       1.00      0.02      0.03        59\n",
      "           8       0.00      0.00      0.00         3\n",
      "\n",
      "    accuracy                           0.51       480\n",
      "   macro avg       0.35      0.21      0.19       480\n",
      "weighted avg       0.58      0.51      0.47       480\n",
      "\n",
      "\n",
      "LogisticRegression \n",
      "classification_report\n",
      "              precision    recall  f1-score   support\n",
      "\n",
      "           3       0.00      0.00      0.00         2\n",
      "           4       0.00      0.00      0.00        15\n",
      "           5       0.64      0.74      0.69       211\n",
      "           6       0.51      0.63      0.56       190\n",
      "           7       0.00      0.00      0.00        59\n",
      "           8       0.00      0.00      0.00         3\n",
      "\n",
      "    accuracy                           0.57       480\n",
      "   macro avg       0.19      0.23      0.21       480\n",
      "weighted avg       0.48      0.57      0.53       480\n",
      "\n",
      "\n",
      "k-Nearest Neighbors Classifier \n",
      "classification_report\n",
      "              precision    recall  f1-score   support\n",
      "\n",
      "           3       0.00      0.00      0.00         2\n",
      "           4       0.00      0.00      0.00        15\n",
      "           5       0.58      0.70      0.63       211\n",
      "           6       0.50      0.47      0.49       190\n",
      "           7       0.34      0.17      0.23        59\n",
      "           8       0.00      0.00      0.00         3\n",
      "\n",
      "    accuracy                           0.52       480\n",
      "   macro avg       0.24      0.22      0.22       480\n",
      "weighted avg       0.49      0.52      0.50       480\n",
      "\n",
      "\n",
      "GaussianNB \n",
      "classification_report\n",
      "              precision    recall  f1-score   support\n",
      "\n",
      "           3       0.14      0.50      0.22         2\n",
      "           4       0.06      0.07      0.06        15\n",
      "           5       0.63      0.66      0.65       211\n",
      "           6       0.50      0.40      0.44       190\n",
      "           7       0.43      0.56      0.49        59\n",
      "           8       0.25      0.33      0.29         3\n",
      "\n",
      "    accuracy                           0.53       480\n",
      "   macro avg       0.33      0.42      0.36       480\n",
      "weighted avg       0.53      0.53      0.52       480\n",
      "\n",
      "\n",
      "Random Forest \n",
      "classification_report\n",
      "              precision    recall  f1-score   support\n",
      "\n",
      "           3       0.00      0.00      0.00         2\n",
      "           4       0.00      0.00      0.00        15\n",
      "           5       0.73      0.79      0.76       211\n",
      "           6       0.62      0.71      0.66       190\n",
      "           7       0.71      0.42      0.53        59\n",
      "           8       1.00      0.33      0.50         3\n",
      "\n",
      "    accuracy                           0.68       480\n",
      "   macro avg       0.51      0.37      0.41       480\n",
      "weighted avg       0.66      0.68      0.66       480\n",
      "\n",
      "\n",
      "XGBoost \n",
      "classification_report\n",
      "              precision    recall  f1-score   support\n",
      "\n",
      "           3       0.00      0.00      0.00         2\n",
      "           4       0.00      0.00      0.00        15\n",
      "           5       0.71      0.77      0.74       211\n",
      "           6       0.62      0.64      0.63       190\n",
      "           7       0.62      0.47      0.54        59\n",
      "           8       0.50      0.33      0.40         3\n",
      "\n",
      "    accuracy                           0.65       480\n",
      "   macro avg       0.41      0.37      0.38       480\n",
      "weighted avg       0.64      0.65      0.64       480\n",
      "\n",
      "\n",
      "DecisionTreeClassifier \n",
      "classification_report\n",
      "              precision    recall  f1-score   support\n",
      "\n",
      "           3       0.00      0.00      0.00         2\n",
      "           4       0.20      0.27      0.23        15\n",
      "           5       0.72      0.65      0.68       211\n",
      "           6       0.59      0.62      0.60       190\n",
      "           7       0.45      0.46      0.45        59\n",
      "           8       0.12      0.33      0.18         3\n",
      "\n",
      "    accuracy                           0.60       480\n",
      "   macro avg       0.35      0.39      0.36       480\n",
      "weighted avg       0.61      0.60      0.60       480\n",
      "\n",
      "\n",
      "Ensembled Classifier \n",
      "classification_report\n",
      "              precision    recall  f1-score   support\n",
      "\n",
      "           3       0.00      0.00      0.00         2\n",
      "           4       0.00      0.00      0.00        15\n",
      "           5       0.62      0.74      0.67       211\n",
      "           6       0.50      0.57      0.53       190\n",
      "           7       0.50      0.07      0.12        59\n",
      "           8       0.00      0.00      0.00         3\n",
      "\n",
      "    accuracy                           0.56       480\n",
      "   macro avg       0.27      0.23      0.22       480\n",
      "weighted avg       0.53      0.56      0.52       480\n",
      "\n",
      "\n",
      "ExtraTreesClassifier \n",
      "classification_report\n",
      "              precision    recall  f1-score   support\n",
      "\n",
      "           3       0.00      0.00      0.00         2\n",
      "           4       0.17      0.07      0.10        15\n",
      "           5       0.70      0.76      0.73       211\n",
      "           6       0.61      0.66      0.64       190\n",
      "           7       0.62      0.39      0.48        59\n",
      "           8       1.00      0.33      0.50         3\n",
      "\n",
      "    accuracy                           0.65       480\n",
      "   macro avg       0.52      0.37      0.41       480\n",
      "weighted avg       0.64      0.65      0.64       480\n",
      "\n",
      "\n"
     ]
    },
    {
     "name": "stderr",
     "output_type": "stream",
     "text": [
      "C:\\Users\\HP\\anaconda3\\lib\\site-packages\\sklearn\\metrics\\_classification.py:1272: UndefinedMetricWarning: Precision and F-score are ill-defined and being set to 0.0 in labels with no predicted samples. Use `zero_division` parameter to control this behavior.\n",
      "  _warn_prf(average, modifier, msg_start, len(result))\n",
      "C:\\Users\\HP\\anaconda3\\lib\\site-packages\\sklearn\\metrics\\_classification.py:1272: UndefinedMetricWarning: Precision and F-score are ill-defined and being set to 0.0 in labels with no predicted samples. Use `zero_division` parameter to control this behavior.\n",
      "  _warn_prf(average, modifier, msg_start, len(result))\n"
     ]
    }
   ],
   "source": [
    "from sklearn.metrics import classification_report\n",
    "\n",
    "models = [svm_model, lr_model, knn_model, gnb_model, rnn_model, xgb_model, dt_model, bagging_model, et_model]\n",
    "model_names = [\"SVM\", \"LogisticRegression\", \"k-Nearest Neighbors Classifier\", \"GaussianNB\", \"Random Forest\", \"XGBoost\", \"DecisionTreeClassifier\", \"Ensembled Classifier\", \"ExtraTreesClassifier\"]\n",
    "for model,model_name in zip(models,model_names):\n",
    "    c_report = classification_report(y_test, model.predict(x_test))\n",
    "    print(f\"{model_name} \\nclassification_report\\n{c_report}\\n\")"
   ]
  },
  {
   "cell_type": "markdown",
   "metadata": {},
   "source": [
    "## Evaluating model for a custom input"
   ]
  },
  {
   "cell_type": "code",
   "execution_count": 60,
   "metadata": {},
   "outputs": [
    {
     "data": {
      "text/plain": [
       "array([11.6  ,  0.42 ,  0.53 ,  3.3  ,  0.105, 33.   , 98.   ,  1.001,\n",
       "        3.2  ,  0.95 ,  9.2  ])"
      ]
     },
     "execution_count": 60,
     "metadata": {},
     "output_type": "execute_result"
    }
   ],
   "source": [
    "x_test[0,:]"
   ]
  },
  {
   "cell_type": "code",
   "execution_count": 61,
   "metadata": {},
   "outputs": [
    {
     "name": "stdout",
     "output_type": "stream",
     "text": [
      "SVM Prediction = [5]\n",
      "LogisticRegression Prediction = [5]\n",
      "k-Nearest Neighbors Classifier Prediction = [5]\n",
      "GaussianNB Prediction = [8]\n",
      "Random Forest Prediction = [6]\n",
      "XGBoost Prediction = [5]\n",
      "DecisionTreeClassifier Prediction = [6]\n",
      "Ensembled Classifier Prediction = [5]\n",
      "ExtraTreesClassifier Prediction = [6]\n"
     ]
    }
   ],
   "source": [
    "test_value = np.array([[12, 0.2, 0.6, 3, 0.12, 30, 98, 1.9, 2.2, 1, 7]])\n",
    "\n",
    "models = [svm_model, lr_model, knn_model, gnb_model, rnn_model, xgb_model, dt_model, bagging_model, et_model]\n",
    "model_names = [\"SVM\", \"LogisticRegression\", \"k-Nearest Neighbors Classifier\", \"GaussianNB\", \"Random Forest\", \"XGBoost\", \"DecisionTreeClassifier\", \"Ensembled Classifier\", \"ExtraTreesClassifier\"]\n",
    "\n",
    "for model,model_name in zip(models,model_names):\n",
    "    own_pred = model.predict(test_value)\n",
    "    print(f\"{model_name} Prediction = {own_pred}\")"
   ]
  },
  {
   "cell_type": "markdown",
   "metadata": {},
   "source": [
    "##### Note: \n",
    "The wine quality for the enterd value set is approximated to 6, this is based on our assumption that \"Random Forest\" model and \"ExtraTreesClassifier\" model are the two most accurate classification models among the group."
   ]
  },
  {
   "cell_type": "code",
   "execution_count": null,
   "metadata": {},
   "outputs": [],
   "source": []
  }
 ],
 "metadata": {
  "kernelspec": {
   "display_name": "Python 3",
   "language": "python",
   "name": "python3"
  },
  "language_info": {
   "codemirror_mode": {
    "name": "ipython",
    "version": 3
   },
   "file_extension": ".py",
   "mimetype": "text/x-python",
   "name": "python",
   "nbconvert_exporter": "python",
   "pygments_lexer": "ipython3",
   "version": "3.7.6"
  }
 },
 "nbformat": 4,
 "nbformat_minor": 4
}
